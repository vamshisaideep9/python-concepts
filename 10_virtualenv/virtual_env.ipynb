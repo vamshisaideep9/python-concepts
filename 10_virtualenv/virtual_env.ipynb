{
 "cells": [
  {
   "cell_type": "markdown",
   "metadata": {},
   "source": [
    "```python\n",
    "Virtual Environment is a tool used to create isolated python environments. It allows you to install and manage packages independently of the system python installation, ensuring that different projects can have their own dependencies without conflicts.\n",
    "\n",
    "1. pip install virtualenv\n",
    "\n",
    "2. virtualenv <virtualenv_name>\n",
    "\n",
    "3. To activate virtualenvironment  \n",
    "\n",
    "source <virtualenv_name>/bin/activate\n",
    "\n",
    "or\n",
    "\n",
    "./<virtualenv_name>/scripts/activate \n",
    "\n",
    "4. deactivate -> To exit virtualenv\n",
    "\n",
    "5. TO remove virtualenv use: \n",
    "\n",
    "rm -rf <virtualenv_name>/   -> Linux/Unix cmd\n",
    "\n",
    "Remove-Item -Recurse -Force <virtualenv_name>  -> powershell\n",
    "\n",
    "```"
   ]
  }
 ],
 "metadata": {
  "kernelspec": {
   "display_name": "Python 3",
   "language": "python",
   "name": "python3"
  },
  "language_info": {
   "name": "python",
   "version": "3.12.6"
  }
 },
 "nbformat": 4,
 "nbformat_minor": 2
}
