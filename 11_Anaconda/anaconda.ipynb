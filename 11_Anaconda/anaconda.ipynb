{
 "cells": [
  {
   "cell_type": "markdown",
   "metadata": {},
   "source": [
    "```python\n",
    "Anaconda is an open-source distribution of python and R, Primarily aimed at scientific computing, data analysis, machine learning, and large-scale data processing. \n",
    "\n",
    "It simplifies package management and deployment, especially for scientific libraries that are often difficult to install manually.\n",
    "\n",
    "1. install anaconda from web\n",
    "\n",
    "2. conda list --> All python packages\n",
    "\n",
    "3. Can be used to manage environments\n",
    "\n",
    "4. conda create --name <app_name> <packages, atleast 1>\n",
    " \n",
    "5. for activate conda virtualenv use -> conda activate <app_name>\n",
    "\n",
    "6. To deactivate use -> conda deactivate <app_name>\n",
    "\n",
    "7. conda info --envs  or conda env list --> To get list of enviroments\n",
    "\n",
    "8. conda env remove --name <env_name>  -> TO remove environment\n",
    "\n",
    "```"
   ]
  }
 ],
 "metadata": {
  "language_info": {
   "name": "python"
  }
 },
 "nbformat": 4,
 "nbformat_minor": 2
}
