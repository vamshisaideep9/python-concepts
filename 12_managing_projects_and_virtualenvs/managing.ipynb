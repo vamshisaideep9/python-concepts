{
 "cells": [
  {
   "cell_type": "markdown",
   "metadata": {},
   "source": [
    "```python\n",
    "1. conda create --name <env_name> <package_names>\n",
    "2. conda activate <env_name>\n",
    "3. conda env export > environment.yml #it is just like requirements.txt\n",
    "4. For someone to activate this environment can use:\n",
    "- conda env create -f environment.yml\n",
    "\n",
    "\n",
    "1. Go to your virtualenv directory\n",
    "\n",
    " C:\\Users\\vamsh\\anaconda3\\envs\\<virtualenv_name>\n",
    "\n",
    "2. create activate.d and deactivate.d directories in etc/conda/\n",
    "\n",
    "3. open activate.d and deactivate.d and create env_vars.sh\n",
    "\n",
    "\n",
    "```"
   ]
  }
 ],
 "metadata": {
  "language_info": {
   "name": "python"
  }
 },
 "nbformat": 4,
 "nbformat_minor": 2
}
