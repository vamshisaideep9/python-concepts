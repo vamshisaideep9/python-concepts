{
 "cells": [
  {
   "cell_type": "markdown",
   "metadata": {},
   "source": [
    "```python\n",
    "LEGB: Local, Enclosing, Global, Bult-in\n",
    "1. Local: Variables defined within a function.\n",
    "2. Enclosing: Variables in local scope\n",
    "3. Global: Variables defined at a top level of the module using global keyword.\n",
    "```"
   ]
  },
  {
   "cell_type": "code",
   "execution_count": 9,
   "metadata": {},
   "outputs": [
    {
     "name": "stdout",
     "output_type": "stream",
     "text": [
      "local x\n",
      "global x\n"
     ]
    }
   ],
   "source": [
    "#Local and Global scope\n",
    "\n",
    "#local>enclosing>global\n",
    "\n",
    "#x = 'global x'\n",
    "\n",
    "def test():\n",
    "    #global x\n",
    "    x = 'local x'\n",
    "    print(x)\n",
    "    \n",
    "\n",
    "test()\n",
    "#print(y) #error\n",
    "print(x)  #global x\n"
   ]
  },
  {
   "cell_type": "code",
   "execution_count": 15,
   "metadata": {},
   "outputs": [
    {
     "name": "stdout",
     "output_type": "stream",
     "text": [
      "local z\n",
      "global x\n"
     ]
    }
   ],
   "source": [
    "def test(z):\n",
    "    x = 'local x'\n",
    "    print(z)\n",
    "test('local z')\n",
    "print(x)"
   ]
  },
  {
   "cell_type": "code",
   "execution_count": 16,
   "metadata": {},
   "outputs": [
    {
     "name": "stdout",
     "output_type": "stream",
     "text": [
      "1\n"
     ]
    }
   ],
   "source": [
    "m = min([5,1,4,2,3])\n",
    "print(m)"
   ]
  },
  {
   "cell_type": "code",
   "execution_count": 20,
   "metadata": {},
   "outputs": [
    {
     "name": "stdout",
     "output_type": "stream",
     "text": [
      "outer x\n",
      "outer x\n"
     ]
    }
   ],
   "source": [
    "#enclosing - nested functions\n",
    "\n",
    "def outer():\n",
    "    x = 'outer x'\n",
    "\n",
    "    def inner():\n",
    "        #x = 'inner x'\n",
    "        print(x)  #enclosing function \n",
    "\n",
    "    inner()\n",
    "    print(x)\n",
    "outer()\n",
    "\n"
   ]
  }
 ],
 "metadata": {
  "kernelspec": {
   "display_name": "Python 3",
   "language": "python",
   "name": "python3"
  },
  "language_info": {
   "codemirror_mode": {
    "name": "ipython",
    "version": 3
   },
   "file_extension": ".py",
   "mimetype": "text/x-python",
   "name": "python",
   "nbconvert_exporter": "python",
   "pygments_lexer": "ipython3",
   "version": "3.12.6"
  }
 },
 "nbformat": 4,
 "nbformat_minor": 2
}
