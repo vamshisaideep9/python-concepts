{
 "cells": [
  {
   "cell_type": "markdown",
   "metadata": {},
   "source": [
    "```python\n",
    "List COmprehensions in python is a concise way to create lists by iterating over an iterable. its often more readable and efficient than using traditional for Loops.\n",
    "```"
   ]
  },
  {
   "cell_type": "code",
   "execution_count": 1,
   "metadata": {},
   "outputs": [],
   "source": [
    "nums = [1,2,3,4,5,6,7,8,9,10]"
   ]
  },
  {
   "cell_type": "code",
   "execution_count": 3,
   "metadata": {},
   "outputs": [
    {
     "name": "stdout",
     "output_type": "stream",
     "text": [
      "[1, 2, 3, 4, 5, 6, 7, 8, 9, 10]\n"
     ]
    }
   ],
   "source": [
    "my_list = [n for n in nums]\n",
    "print(my_list)"
   ]
  },
  {
   "cell_type": "code",
   "execution_count": 4,
   "metadata": {},
   "outputs": [
    {
     "name": "stdout",
     "output_type": "stream",
     "text": [
      "[1, 4, 9, 16, 25, 36, 49, 64, 81, 100]\n"
     ]
    }
   ],
   "source": [
    "my_list = [n*n for n in nums]\n",
    "print(my_list)"
   ]
  },
  {
   "cell_type": "code",
   "execution_count": 6,
   "metadata": {},
   "outputs": [
    {
     "name": "stdout",
     "output_type": "stream",
     "text": [
      "<map object at 0x000001F7BBAD6B60>\n"
     ]
    }
   ],
   "source": [
    "#using map + lambda\n",
    "\n",
    "my_list = map(lambda n: n*n, nums)\n",
    "print(my_list)"
   ]
  },
  {
   "cell_type": "code",
   "execution_count": 7,
   "metadata": {},
   "outputs": [
    {
     "name": "stdout",
     "output_type": "stream",
     "text": [
      "[2, 4, 6, 8, 10]\n"
     ]
    }
   ],
   "source": [
    "my_list = [n for n in nums if n%2==0]\n",
    "print(my_list)"
   ]
  },
  {
   "cell_type": "code",
   "execution_count": 8,
   "metadata": {},
   "outputs": [
    {
     "name": "stdout",
     "output_type": "stream",
     "text": [
      "<filter object at 0x000001F7BBA9F550>\n"
     ]
    }
   ],
   "source": [
    "#filter + lambda\n",
    "\n",
    "my_list = filter(lambda n: n%2==0, nums)\n",
    "print(my_list)"
   ]
  },
  {
   "cell_type": "code",
   "execution_count": 9,
   "metadata": {},
   "outputs": [
    {
     "name": "stdout",
     "output_type": "stream",
     "text": [
      "[('a', 0), ('a', 1), ('a', 2), ('a', 3), ('b', 0), ('b', 1), ('b', 2), ('b', 3), ('c', 0), ('c', 1), ('c', 2), ('c', 3), ('d', 0), ('d', 1), ('d', 2), ('d', 3)]\n"
     ]
    }
   ],
   "source": [
    "my_list = [(letter, num) for letter in 'abcd' for num in range(4)]\n",
    "print(my_list)   "
   ]
  },
  {
   "cell_type": "markdown",
   "metadata": {},
   "source": [
    "```python\n",
    "Dictionary Comprehension in python is a concise way to create dictionaries by iterating over an iterable and applying an expression to each item.\n",
    "```"
   ]
  },
  {
   "cell_type": "code",
   "execution_count": 11,
   "metadata": {},
   "outputs": [],
   "source": [
    "names = ['Bruce', 'clark', 'peter', 'logan', 'Wade']\n",
    "heros = ['Batman', 'superman', 'spiderman', 'wolverine', 'Deadpool']"
   ]
  },
  {
   "cell_type": "code",
   "execution_count": 14,
   "metadata": {},
   "outputs": [
    {
     "name": "stdout",
     "output_type": "stream",
     "text": [
      "{'Bruce': 'Batman', 'clark': 'superman', 'peter': 'spiderman', 'logan': 'wolverine', 'Wade': 'Deadpool'}\n"
     ]
    }
   ],
   "source": [
    "print(dict(zip(names, heros)))"
   ]
  },
  {
   "cell_type": "code",
   "execution_count": 15,
   "metadata": {},
   "outputs": [
    {
     "name": "stdout",
     "output_type": "stream",
     "text": [
      "{'Bruce': 'Batman', 'clark': 'superman', 'peter': 'spiderman', 'logan': 'wolverine', 'Wade': 'Deadpool'}\n"
     ]
    }
   ],
   "source": [
    "my_dict = {name: hero for name, hero in zip(names, heros)}\n",
    "print(my_dict)"
   ]
  },
  {
   "cell_type": "markdown",
   "metadata": {},
   "source": [
    "```python\n",
    "Set Comprehension in python is similar to list and dictionary comprehension but creates a set instead of list or dictionary. A set is an unordered collection of unique elements.\n",
    "```"
   ]
  },
  {
   "cell_type": "code",
   "execution_count": 17,
   "metadata": {},
   "outputs": [
    {
     "name": "stdout",
     "output_type": "stream",
     "text": [
      "{1, 2, 3, 4, 5, 6, 7, 8, 9, 10}\n"
     ]
    }
   ],
   "source": [
    "nums = [1,1,2,3,4,5,5,6,7,5,3,8,9,10]\n",
    "my_set = {n for n in nums}\n",
    "print(my_set)"
   ]
  },
  {
   "cell_type": "markdown",
   "metadata": {},
   "source": [
    "```python\n",
    "A generator expression in python is a concise way to create a generator, which is an iterator that yields items one at a time as you iterate over it, They return a generator object\n",
    "```"
   ]
  },
  {
   "cell_type": "code",
   "execution_count": 18,
   "metadata": {},
   "outputs": [
    {
     "name": "stdout",
     "output_type": "stream",
     "text": [
      "1\n",
      "1\n",
      "4\n",
      "9\n",
      "16\n",
      "25\n",
      "25\n",
      "36\n",
      "49\n",
      "25\n",
      "9\n",
      "64\n",
      "81\n",
      "100\n"
     ]
    }
   ],
   "source": [
    "def gen_func(nums):\n",
    "    for n in nums:\n",
    "        yield n*n\n",
    "my_gen = gen_func(nums)\n",
    "\n",
    "for i in my_gen:\n",
    "    print(i)"
   ]
  }
 ],
 "metadata": {
  "kernelspec": {
   "display_name": "Python 3",
   "language": "python",
   "name": "python3"
  },
  "language_info": {
   "codemirror_mode": {
    "name": "ipython",
    "version": 3
   },
   "file_extension": ".py",
   "mimetype": "text/x-python",
   "name": "python",
   "nbconvert_exporter": "python",
   "pygments_lexer": "ipython3",
   "version": "3.12.6"
  }
 },
 "nbformat": 4,
 "nbformat_minor": 2
}
