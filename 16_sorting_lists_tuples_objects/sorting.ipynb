{
 "cells": [
  {
   "cell_type": "code",
   "execution_count": 1,
   "metadata": {},
   "outputs": [],
   "source": [
    "li = [9,1,8,2,7,3,6,4,5]"
   ]
  },
  {
   "cell_type": "code",
   "execution_count": 6,
   "metadata": {},
   "outputs": [
    {
     "name": "stdout",
     "output_type": "stream",
     "text": [
      "[9, 8, 7, 6, 5, 4, 3, 2, 1]\n"
     ]
    }
   ],
   "source": [
    "s_li = sorted(li, reverse=True)\n",
    "print(s_li)"
   ]
  },
  {
   "cell_type": "code",
   "execution_count": 7,
   "metadata": {},
   "outputs": [
    {
     "name": "stdout",
     "output_type": "stream",
     "text": [
      "[9, 8, 7, 6, 5, 4, 3, 2, 1]\n"
     ]
    }
   ],
   "source": [
    "li.sort(reverse=True) #reverse = True for desc\n",
    "print(li)"
   ]
  },
  {
   "cell_type": "code",
   "execution_count": 8,
   "metadata": {},
   "outputs": [
    {
     "name": "stdout",
     "output_type": "stream",
     "text": [
      "[1, 2, 3, 4, 5, 6, 7, 8, 9]\n"
     ]
    }
   ],
   "source": [
    "tup = (9,1,8,2,7,3,6,4,5)\n",
    "s_tup = sorted(tup)\n",
    "print(s_tup)"
   ]
  },
  {
   "cell_type": "code",
   "execution_count": 9,
   "metadata": {},
   "outputs": [],
   "source": [
    "di = {'name':'vamshi', 'job':'programming', 'age':None, 'os':'windows'}\n"
   ]
  },
  {
   "cell_type": "code",
   "execution_count": 10,
   "metadata": {},
   "outputs": [
    {
     "name": "stdout",
     "output_type": "stream",
     "text": [
      "['age', 'job', 'name', 'os']\n"
     ]
    }
   ],
   "source": [
    "s_di = sorted(di)\n",
    "print(s_di)"
   ]
  },
  {
   "cell_type": "code",
   "execution_count": 12,
   "metadata": {},
   "outputs": [
    {
     "name": "stdout",
     "output_type": "stream",
     "text": [
      "[1, 2, 3, -4, -5, -6]\n"
     ]
    }
   ],
   "source": [
    "li = [-6, -5, -4, 1, 2, 3]\n",
    "s_li = sorted(li, key=abs)\n",
    "print(s_li)"
   ]
  },
  {
   "cell_type": "code",
   "execution_count": 13,
   "metadata": {},
   "outputs": [],
   "source": [
    "class Employee():\n",
    "    def __init__(self, name, age, salary):\n",
    "        self.name = name\n",
    "        self.age = age\n",
    "        self.salary = salary\n",
    "\n",
    "    def __repr__(self):\n",
    "        return f'{self.name}, {self.age}, {self.salary}'\n",
    "    "
   ]
  },
  {
   "cell_type": "code",
   "execution_count": 15,
   "metadata": {},
   "outputs": [],
   "source": [
    "e1 = Employee('vamshi', 22, 1000000)\n",
    "e2 = Employee('vinay', 21, 100000)\n",
    "e3 = Employee('rahul', 25, 9000000)"
   ]
  },
  {
   "cell_type": "code",
   "execution_count": 17,
   "metadata": {},
   "outputs": [
    {
     "name": "stdout",
     "output_type": "stream",
     "text": [
      "[rahul, 25, 9000000, vamshi, 22, 1000000, vinay, 21, 100000]\n"
     ]
    }
   ],
   "source": [
    "employees = [e1,e2,e3]\n",
    "\n",
    "def e_sort(emp):\n",
    "    return emp.name\n",
    "\n",
    "s_employees = sorted(employees, key=e_sort)\n",
    "print(s_employees)"
   ]
  },
  {
   "cell_type": "code",
   "execution_count": 18,
   "metadata": {},
   "outputs": [
    {
     "name": "stdout",
     "output_type": "stream",
     "text": [
      "[vinay, 21, 100000, vamshi, 22, 1000000, rahul, 25, 9000000]\n"
     ]
    }
   ],
   "source": [
    "#we can use lambda\n",
    "\n",
    "s_employees = sorted(employees, key=lambda e: e.age)\n",
    "print(s_employees)"
   ]
  },
  {
   "cell_type": "code",
   "execution_count": 19,
   "metadata": {},
   "outputs": [
    {
     "name": "stdout",
     "output_type": "stream",
     "text": [
      "[vinay, 21, 100000, vamshi, 22, 1000000, rahul, 25, 9000000]\n"
     ]
    }
   ],
   "source": [
    "#we can use attrgetter\n",
    "\n",
    "from operator import attrgetter\n",
    "s_employees = sorted(employees, key=attrgetter('salary'))\n",
    "print(s_employees)"
   ]
  }
 ],
 "metadata": {
  "kernelspec": {
   "display_name": "Python 3",
   "language": "python",
   "name": "python3"
  },
  "language_info": {
   "codemirror_mode": {
    "name": "ipython",
    "version": 3
   },
   "file_extension": ".py",
   "mimetype": "text/x-python",
   "name": "python",
   "nbconvert_exporter": "python",
   "pygments_lexer": "ipython3",
   "version": "3.12.6"
  }
 },
 "nbformat": 4,
 "nbformat_minor": 2
}
