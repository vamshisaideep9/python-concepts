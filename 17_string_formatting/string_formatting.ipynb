{
 "cells": [
  {
   "cell_type": "markdown",
   "metadata": {},
   "source": [
    "### String Formatting"
   ]
  },
  {
   "cell_type": "code",
   "execution_count": 1,
   "metadata": {},
   "outputs": [],
   "source": [
    "person = {'name': 'vamshi', 'age': 23}"
   ]
  },
  {
   "cell_type": "code",
   "execution_count": 3,
   "metadata": {},
   "outputs": [
    {
     "name": "stdout",
     "output_type": "stream",
     "text": [
      "My name is vamshi and I am 23 years old.\n"
     ]
    }
   ],
   "source": [
    "sentence = 'My name is ' + person['name'] + ' and I am ' + str(person['age']) + ' years old.'\n",
    "print(sentence)"
   ]
  },
  {
   "cell_type": "markdown",
   "metadata": {},
   "source": [
    "Using placeholders"
   ]
  },
  {
   "cell_type": "code",
   "execution_count": 4,
   "metadata": {},
   "outputs": [
    {
     "name": "stdout",
     "output_type": "stream",
     "text": [
      "My name is vamshi and I am 23 years old.\n"
     ]
    }
   ],
   "source": [
    "sentence = 'My name is {} and I am {} years old.'.format(person['name'], person['age'])\n",
    "print(sentence)"
   ]
  },
  {
   "cell_type": "markdown",
   "metadata": {},
   "source": [
    "Placeholders with priority"
   ]
  },
  {
   "cell_type": "code",
   "execution_count": 5,
   "metadata": {},
   "outputs": [
    {
     "name": "stdout",
     "output_type": "stream",
     "text": [
      "My name is 23 and i am vamshi years old.\n"
     ]
    }
   ],
   "source": [
    "sentence = 'My name is {1} and i am {0} years old.'.format(person['name'], person['age'])\n",
    "print(sentence)  #use 0 first then 1 for correct output."
   ]
  },
  {
   "cell_type": "code",
   "execution_count": 6,
   "metadata": {},
   "outputs": [
    {
     "name": "stdout",
     "output_type": "stream",
     "text": [
      "<h1>This is a headline</h1>\n"
     ]
    }
   ],
   "source": [
    "tag = 'h1'\n",
    "text = 'This is a headline'\n",
    "\n",
    "sentence = '<{0}>{1}</{0}>'.format(tag, text)\n",
    "print(sentence)"
   ]
  },
  {
   "cell_type": "code",
   "execution_count": 8,
   "metadata": {},
   "outputs": [
    {
     "name": "stdout",
     "output_type": "stream",
     "text": [
      "My name is vamshi and i am 23 years old\n"
     ]
    }
   ],
   "source": [
    "sentence = 'My name is {0[name]} and i am {0[age]} years old'.format(person)\n",
    "print(sentence)"
   ]
  },
  {
   "cell_type": "code",
   "execution_count": 10,
   "metadata": {},
   "outputs": [
    {
     "name": "stdout",
     "output_type": "stream",
     "text": [
      "My name is jenn and I am 23 years old.\n"
     ]
    }
   ],
   "source": [
    "l = ['jenn', 23]\n",
    "sentence = 'My name is {0[0]} and I am {0[1]} years old.'.format(l)\n",
    "print(sentence)"
   ]
  },
  {
   "cell_type": "code",
   "execution_count": 12,
   "metadata": {},
   "outputs": [
    {
     "name": "stdout",
     "output_type": "stream",
     "text": [
      "My name is vamshi and I am 22 years old.\n"
     ]
    }
   ],
   "source": [
    "class person():\n",
    "    def __init__(self, name, age):\n",
    "        self.name = name\n",
    "        self.age = age\n",
    "\n",
    "p1 = person('vamshi', 22)\n",
    "\n",
    "sentence = 'My name is {0.name} and I am {0.age} years old.'.format(p1)\n",
    "print(sentence)\n"
   ]
  },
  {
   "cell_type": "code",
   "execution_count": 14,
   "metadata": {},
   "outputs": [
    {
     "name": "stdout",
     "output_type": "stream",
     "text": [
      "My name is vamshi and I am 22 years old.\n"
     ]
    }
   ],
   "source": [
    "person = {'name':'vamshi', 'age':22}\n",
    "sentence = 'My name is {name} and I am {age} years old.'.format(**person)\n",
    "print(sentence)  #best way to print out dictionary values"
   ]
  },
  {
   "cell_type": "code",
   "execution_count": 18,
   "metadata": {},
   "outputs": [
    {
     "name": "stdout",
     "output_type": "stream",
     "text": [
      "This value is 01\n",
      "This value is 02\n",
      "This value is 03\n",
      "This value is 04\n",
      "This value is 05\n",
      "This value is 06\n",
      "This value is 07\n",
      "This value is 08\n",
      "This value is 09\n",
      "This value is 10\n"
     ]
    }
   ],
   "source": [
    "for i in range(1,11):\n",
    "    sentence = 'This value is {:02}'.format(i)  #{:02} for decimal places\n",
    "    print(sentence)"
   ]
  },
  {
   "cell_type": "code",
   "execution_count": 20,
   "metadata": {},
   "outputs": [
    {
     "name": "stdout",
     "output_type": "stream",
     "text": [
      "pi is equal to 3.142\n"
     ]
    }
   ],
   "source": [
    "pi = 3.14159265\n",
    "sentence = 'pi is equal to {:.3f}'.format(pi) #3 decimal places\n",
    "print(sentence)"
   ]
  },
  {
   "cell_type": "code",
   "execution_count": 23,
   "metadata": {},
   "outputs": [
    {
     "name": "stdout",
     "output_type": "stream",
     "text": [
      "1MB is equal to 1,000,000.00 bytes\n"
     ]
    }
   ],
   "source": [
    "sentence = '1MB is equal to {:,.2f} bytes'.format(1000**2)\n",
    "print(sentence)"
   ]
  },
  {
   "cell_type": "code",
   "execution_count": 24,
   "metadata": {},
   "outputs": [
    {
     "name": "stdout",
     "output_type": "stream",
     "text": [
      "2016-09-24 12:30:45\n"
     ]
    }
   ],
   "source": [
    "#format dates -> important\n",
    "\n",
    "import datetime\n",
    "my_date = datetime.datetime(2016,9,24,12,30,45)\n",
    "print(my_date)"
   ]
  },
  {
   "cell_type": "code",
   "execution_count": 40,
   "metadata": {},
   "outputs": [
    {
     "name": "stdout",
     "output_type": "stream",
     "text": [
      "September 24, 2016 - 12:30:45\n"
     ]
    },
    {
     "data": {
      "text/plain": [
       "'\\n%B -> month (january - december)\\n\\n%d -> date (01-31)\\n\\n%Y -> year -> 4- digit year\\n\\n%m -> 2-digit month (01 - 12)\\n\\n%y -> 2-digit year (for 2016 it shows 16) -> not recommended\\n\\n%H -> 2-digit hour (00-23)\\n\\n%M -> 2-digit minute (00-59)\\n\\n%s -> 2-digit second (00-59)\\n\\n%A -> Day of the week\\n\\n%j -> Day of the year\\n\\n'"
      ]
     },
     "execution_count": 40,
     "metadata": {},
     "output_type": "execute_result"
    }
   ],
   "source": [
    "sentence = '{0:%B %d, %Y} - {0:%H}:{0:%M}:{0:%S}'.format(my_date)\n",
    "print(sentence)\n",
    "\n",
    "\n",
    "\"\"\"\n",
    "%B -> month (january - december)\n",
    "\n",
    "%d -> date (01-31)\n",
    "\n",
    "%Y -> year -> 4- digit year\n",
    "\n",
    "%m -> 2-digit month (01 - 12)\n",
    "\n",
    "%y -> 2-digit year (for 2016 it shows 16) -> not recommended\n",
    "\n",
    "%H -> 2-digit hour (00-23)\n",
    "\n",
    "%M -> 2-digit minute (00-59)\n",
    "\n",
    "%s -> 2-digit second (00-59)\n",
    "\n",
    "%A -> Day of the week\n",
    "\n",
    "%j -> Day of the year\n",
    "\n",
    "\"\"\""
   ]
  },
  {
   "cell_type": "code",
   "execution_count": 39,
   "metadata": {},
   "outputs": [
    {
     "name": "stdout",
     "output_type": "stream",
     "text": [
      "September 24, 2016 fell on a Saturday and was the 268 day of the year\n"
     ]
    }
   ],
   "source": [
    "sentence = '{0:%B %d, %Y} fell on a {0:%A} and was the {0:%j} day of the year'.format(my_date)\n",
    "print(sentence)"
   ]
  }
 ],
 "metadata": {
  "kernelspec": {
   "display_name": "Python 3",
   "language": "python",
   "name": "python3"
  },
  "language_info": {
   "codemirror_mode": {
    "name": "ipython",
    "version": 3
   },
   "file_extension": ".py",
   "mimetype": "text/x-python",
   "name": "python",
   "nbconvert_exporter": "python",
   "pygments_lexer": "ipython3",
   "version": "3.12.6"
  }
 },
 "nbformat": 4,
 "nbformat_minor": 2
}
