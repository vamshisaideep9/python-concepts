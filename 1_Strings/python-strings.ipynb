{
 "cells": [
  {
   "cell_type": "markdown",
   "metadata": {},
   "source": [
    "Strings"
   ]
  },
  {
   "cell_type": "markdown",
   "metadata": {},
   "source": [
    "```python\n",
    "Strings are sequence of characters enclosed in quotes. strings can contain letters, numbers, symbols, and spaces.\n",
    "They are widely used for storing data and manipulating it.\n",
    "```"
   ]
  },
  {
   "cell_type": "code",
   "execution_count": 4,
   "metadata": {},
   "outputs": [
    {
     "name": "stdout",
     "output_type": "stream",
     "text": [
      "Hello's World\n",
      "Hello world\n"
     ]
    }
   ],
   "source": [
    "message = 'Hello\\'s World'\n",
    "message2 = 'Hello world'\n",
    "print(message)\n",
    "print(message2)"
   ]
  },
  {
   "cell_type": "code",
   "execution_count": 2,
   "metadata": {},
   "outputs": [
    {
     "name": "stdout",
     "output_type": "stream",
     "text": [
      "Hello's world\n"
     ]
    }
   ],
   "source": [
    "message = \"Hello's world\"\n",
    "print(message)"
   ]
  },
  {
   "cell_type": "code",
   "execution_count": 5,
   "metadata": {},
   "outputs": [
    {
     "name": "stdout",
     "output_type": "stream",
     "text": [
      " Hey welcome to the fightclub.\n",
      "Have a great year ahead. Lovess.\n"
     ]
    }
   ],
   "source": [
    "message = \"\"\" Hey welcome to the fightclub.\n",
    "Have a great year ahead. Lovess.\"\"\"\n",
    "print(message)"
   ]
  },
  {
   "cell_type": "markdown",
   "metadata": {},
   "source": [
    "#### Built-in Functions in Strings"
   ]
  },
  {
   "cell_type": "code",
   "execution_count": 6,
   "metadata": {},
   "outputs": [
    {
     "name": "stdout",
     "output_type": "stream",
     "text": [
      "12\n"
     ]
    }
   ],
   "source": [
    "message = 'Hello wrolds'  \n",
    "print(len(message))"
   ]
  },
  {
   "cell_type": "code",
   "execution_count": 9,
   "metadata": {},
   "outputs": [
    {
     "name": "stdout",
     "output_type": "stream",
     "text": [
      "r\n"
     ]
    },
    {
     "ename": "IndexError",
     "evalue": "string index out of range",
     "output_type": "error",
     "traceback": [
      "\u001b[1;31m---------------------------------------------------------------------------\u001b[0m",
      "\u001b[1;31mIndexError\u001b[0m                                Traceback (most recent call last)",
      "Cell \u001b[1;32mIn[9], line 3\u001b[0m\n\u001b[0;32m      1\u001b[0m message \u001b[38;5;241m=\u001b[39m \u001b[38;5;124m\"\u001b[39m\u001b[38;5;124mHello\u001b[39m\u001b[38;5;124m'\u001b[39m\u001b[38;5;124ms world\u001b[39m\u001b[38;5;124m\"\u001b[39m\n\u001b[0;32m      2\u001b[0m \u001b[38;5;28mprint\u001b[39m(message[\u001b[38;5;241m10\u001b[39m])  \u001b[38;5;66;03m# first character starts from 0\u001b[39;00m\n\u001b[1;32m----> 3\u001b[0m \u001b[38;5;28mprint\u001b[39m(\u001b[43mmessage\u001b[49m\u001b[43m[\u001b[49m\u001b[38;5;241;43m20\u001b[39;49m\u001b[43m]\u001b[49m)\n",
      "\u001b[1;31mIndexError\u001b[0m: string index out of range"
     ]
    }
   ],
   "source": [
    "message = \"Hello's world\"\n",
    "print(message[10])  # first character starts from 0\n",
    "print(message[20])  #error -> String index out of range"
   ]
  },
  {
   "cell_type": "code",
   "execution_count": 8,
   "metadata": {},
   "outputs": [
    {
     "name": "stdout",
     "output_type": "stream",
     "text": [
      "Hello\n",
      "world\n",
      "dlrow olleH\n"
     ]
    }
   ],
   "source": [
    "message = 'Hello world'\n",
    "\n",
    "print(message[0:5])\n",
    "print(message[6:])\n",
    "reverse = message[::-1]\n",
    "print(reverse)"
   ]
  },
  {
   "cell_type": "markdown",
   "metadata": {},
   "source": [
    "```python\n",
    "Object: An Object is an instance of a class. \n",
    "\n",
    "Eg: \n",
    "\n",
    "```\n",
    "```python\n",
    "class Dog:\n",
    "   def __init__(self, name):\n",
    "        self.name = name\n",
    "\n",
    "dog1 = Dog(\"BInny\")\n",
    "print(dog1.name)\n",
    "```\n",
    "----------------------------------------------------------------------\n",
    "\n",
    "```python \n",
    "Method: A method is a function defined inside a class that operates an objects of that class.\n",
    "\n",
    "Eg:\n",
    "\n",
    "class Dog:\n",
    "        def __init__(self, name):\n",
    "                self.name = name\n",
    "        def bark(self):\n",
    "                return f\"{self.name} says woof!\"\n",
    "\n",
    "dog1 = Dog(\"Binny\")\n",
    "print(dog1.bark())\n",
    "\n",
    "```"
   ]
  },
  {
   "cell_type": "code",
   "execution_count": 10,
   "metadata": {},
   "outputs": [
    {
     "name": "stdout",
     "output_type": "stream",
     "text": [
      "hello world\n",
      "HELLO WORLD\n",
      "3\n",
      "6\n",
      "<built-in method strip of str object at 0x000002709A4D5470>\n"
     ]
    }
   ],
   "source": [
    "message = 'Hello World'\n",
    "print(message.lower())\n",
    "print(message.upper())\n",
    "print(message.count('l')) #it returns 0 if it doesnot have a letter or word\n",
    "print(message.find('World')) #If word doesnot exist it returns -1\n",
    "print(message.replace(\" \", ''))"
   ]
  },
  {
   "cell_type": "code",
   "execution_count": 33,
   "metadata": {},
   "outputs": [
    {
     "name": "stdout",
     "output_type": "stream",
     "text": [
      "Hello Vamshi\n"
     ]
    }
   ],
   "source": [
    "message = 'Hello World'\n",
    "new_message = message.replace('World', 'Vamshi')\n",
    "print(new_message)\n"
   ]
  },
  {
   "cell_type": "code",
   "execution_count": 44,
   "metadata": {},
   "outputs": [
    {
     "name": "stdout",
     "output_type": "stream",
     "text": [
      "Hello, Micheal. welcome!\n",
      "Hello, Micheal. welcome!\n",
      "Hello, Micheal. Welcome!\n"
     ]
    }
   ],
   "source": [
    "greeting = 'Hello'\n",
    "name = 'Micheal'\n",
    "\n",
    "message = greeting + ', ' + name + '. welcome!'\n",
    "\n",
    "message2 = '{}, {}. welcome!'.format(greeting, name) #using placeholders\n",
    "\n",
    "message3 = f'{greeting}, {name}. Welcome!'  #f-strings - Recommended\n",
    "\n",
    "print(message)\n",
    "print(message2)\n",
    "print(message3)"
   ]
  },
  {
   "cell_type": "code",
   "execution_count": 46,
   "metadata": {},
   "outputs": [
    {
     "name": "stdout",
     "output_type": "stream",
     "text": [
      "['__add__', '__class__', '__contains__', '__delattr__', '__dir__', '__doc__', '__eq__', '__format__', '__ge__', '__getattribute__', '__getitem__', '__getnewargs__', '__getstate__', '__gt__', '__hash__', '__init__', '__init_subclass__', '__iter__', '__le__', '__len__', '__lt__', '__mod__', '__mul__', '__ne__', '__new__', '__reduce__', '__reduce_ex__', '__repr__', '__rmod__', '__rmul__', '__setattr__', '__sizeof__', '__str__', '__subclasshook__', 'capitalize', 'casefold', 'center', 'count', 'encode', 'endswith', 'expandtabs', 'find', 'format', 'format_map', 'index', 'isalnum', 'isalpha', 'isascii', 'isdecimal', 'isdigit', 'isidentifier', 'islower', 'isnumeric', 'isprintable', 'isspace', 'istitle', 'isupper', 'join', 'ljust', 'lower', 'lstrip', 'maketrans', 'partition', 'removeprefix', 'removesuffix', 'replace', 'rfind', 'rindex', 'rjust', 'rpartition', 'rsplit', 'rstrip', 'split', 'splitlines', 'startswith', 'strip', 'swapcase', 'title', 'translate', 'upper', 'zfill']\n"
     ]
    }
   ],
   "source": [
    "greetinf = 'Hello'\n",
    "name = 'Michael'\n",
    "print(dir(name))  #all functions of the variable"
   ]
  }
 ],
 "metadata": {
  "kernelspec": {
   "display_name": "Python 3",
   "language": "python",
   "name": "python3"
  },
  "language_info": {
   "codemirror_mode": {
    "name": "ipython",
    "version": 3
   },
   "file_extension": ".py",
   "mimetype": "text/x-python",
   "name": "python",
   "nbconvert_exporter": "python",
   "pygments_lexer": "ipython3",
   "version": "3.12.6"
  }
 },
 "nbformat": 4,
 "nbformat_minor": 2
}
