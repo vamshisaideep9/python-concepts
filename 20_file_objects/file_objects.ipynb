{
 "cells": [
  {
   "cell_type": "markdown",
   "metadata": {},
   "source": [
    "```python\n",
    "File objects are used to interact with files on your system. They allow you to read from, write to and manipulate files.\n",
    "```"
   ]
  },
  {
   "cell_type": "markdown",
   "metadata": {},
   "source": [
    "```python\n",
    "'r' - read\n",
    "'w' - write\n",
    "'a' - append\n",
    "'r+' - read and write\n",
    "```"
   ]
  },
  {
   "cell_type": "code",
   "execution_count": 4,
   "metadata": {},
   "outputs": [
    {
     "name": "stdout",
     "output_type": "stream",
     "text": [
      "test.txt\n"
     ]
    }
   ],
   "source": [
    "f = open('test.txt', 'r')\n",
    "print(f.name)  "
   ]
  },
  {
   "cell_type": "code",
   "execution_count": 5,
   "metadata": {},
   "outputs": [],
   "source": [
    "f.close() #to close the file, use it when you use open()"
   ]
  },
  {
   "cell_type": "markdown",
   "metadata": {},
   "source": [
    "```python\n",
    "Context Manager - Is a construct that allows you to manage resources efficiently by ensuring that setup and cleanup actions are performed automatically. It is commonly used for resources like files, network connections, database sessions, or locks.\n",
    "\n",
    "\n",
    "Instead of using f = open('','') and f.close()\n",
    "\n",
    "we can use context manager using with.\n",
    "\n",
    "f = with open('', '') it ensures that it is closed after using. we dont have to write f.close()\n",
    "\n",
    "```"
   ]
  },
  {
   "cell_type": "code",
   "execution_count": 7,
   "metadata": {},
   "outputs": [
    {
     "name": "stdout",
     "output_type": "stream",
     "text": [
      "test.txt\n"
     ]
    }
   ],
   "source": [
    "with open('test.txt', 'r') as f:\n",
    "    pass\n",
    "\n",
    "print(f.name)"
   ]
  },
  {
   "cell_type": "code",
   "execution_count": 8,
   "metadata": {},
   "outputs": [
    {
     "name": "stdout",
     "output_type": "stream",
     "text": [
      "1) This is a test file:\n",
      "2) with multple lines of data....\n"
     ]
    }
   ],
   "source": [
    "#To read content in the file\n",
    "with open('test.txt', 'r') as f:\n",
    "    f_contains = f.read()\n",
    "    print(f_contains)  #Its not efficient as it reads contents all at the same time. causing memory issue"
   ]
  },
  {
   "cell_type": "code",
   "execution_count": 9,
   "metadata": {},
   "outputs": [
    {
     "name": "stdout",
     "output_type": "stream",
     "text": [
      "['1) This is a test file:\\n', '2) with multple lines of data....']\n"
     ]
    }
   ],
   "source": [
    "with open('test.txt', 'r') as f:\n",
    "    f_contains = f.readlines()\n",
    "    print(f_contains)"
   ]
  },
  {
   "cell_type": "code",
   "execution_count": 14,
   "metadata": {},
   "outputs": [
    {
     "name": "stdout",
     "output_type": "stream",
     "text": [
      "1) This is a test file:\n",
      "2) with multple lines of data....\n"
     ]
    }
   ],
   "source": [
    "with open('test.txt', 'r') as f:\n",
    "    f_contains = f.readline()\n",
    "    print(f_contains, end='')  #IT prints 1st line and so on... as we put print statement\n",
    "    #using end='' for no extra space \n",
    "    f_contains = f.readline()\n",
    "    print(f_contains) #2nd line"
   ]
  },
  {
   "cell_type": "code",
   "execution_count": 15,
   "metadata": {},
   "outputs": [
    {
     "name": "stdout",
     "output_type": "stream",
     "text": [
      "1) This is a test file:\n",
      "2) with multple lines of data...."
     ]
    }
   ],
   "source": [
    "with open('test.txt','r') as f:\n",
    "    for line in f:\n",
    "        print(line, end='')  #Its efficient because its not reading contents all at the same time."
   ]
  },
  {
   "cell_type": "code",
   "execution_count": 19,
   "metadata": {},
   "outputs": [
    {
     "name": "stdout",
     "output_type": "stream",
     "text": [
      "1) This is a test file:\n",
      "2) with multple lines of d\n"
     ]
    }
   ],
   "source": [
    "#But, with f.read() we can print the no of characters we want instead of whole content.\n",
    "\n",
    "with open('test.txt', 'r') as f:\n",
    "\n",
    "    f_contains = f.read(50)\n",
    "    print(f_contains)"
   ]
  },
  {
   "cell_type": "code",
   "execution_count": 30,
   "metadata": {},
   "outputs": [
    {
     "name": "stdout",
     "output_type": "stream",
     "text": [
      "1) This is a test file:\n",
      "2) with multple lines of data...."
     ]
    }
   ],
   "source": [
    "with open('test.txt', 'r') as f:\n",
    "    \n",
    "    size_to_read = 10\n",
    "    f_contains = f.read(size_to_read)\n",
    "\n",
    "    while len(f_contains) > 0:\n",
    "       print(f_contains, end=\"\")\n",
    "          #print(f.tell(), end=\" \")\n",
    "       f_contains = f.read(size_to_read)\n",
    "\n",
    "\n",
    "#Looping through 10 characters at a time. "
   ]
  },
  {
   "cell_type": "code",
   "execution_count": 33,
   "metadata": {},
   "outputs": [
    {
     "name": "stdout",
     "output_type": "stream",
     "text": [
      "1) This is\n",
      "10\n"
     ]
    }
   ],
   "source": [
    "with open('test.txt', 'r') as f:\n",
    "    \n",
    "    size_to_read = 10\n",
    "    f_contains = f.read(size_to_read)\n",
    "    print(f_contains)\n",
    "    print(f.tell())  #Prints location after reading input number of characters"
   ]
  },
  {
   "cell_type": "code",
   "execution_count": 35,
   "metadata": {},
   "outputs": [],
   "source": [
    "with open('test2.txt', 'w') as f:\n",
    "    pass  #This creates test2.txt file in the directory"
   ]
  },
  {
   "cell_type": "code",
   "execution_count": 36,
   "metadata": {},
   "outputs": [],
   "source": [
    "with open('test2.txt', 'w') as f:\n",
    "    f.write('Test')  #This writes content in the file"
   ]
  },
  {
   "cell_type": "code",
   "execution_count": 39,
   "metadata": {},
   "outputs": [],
   "source": [
    "with open('test2.txt', 'w') as f:\n",
    "    f.write('Test')\n",
    "    f.seek(1)  #seeking 2nd element and changing it\n",
    "    f.write('a')  #changing from test to tast by seeking 2nd element"
   ]
  },
  {
   "cell_type": "code",
   "execution_count": 40,
   "metadata": {},
   "outputs": [],
   "source": [
    "#Copying from one file and pasting to another  \n",
    "\n",
    "with open('test.txt', 'r') as rf:\n",
    "    with open('test_copy.txt', 'w') as wf:\n",
    "        for line in rf:\n",
    "            wf.write(line)\n"
   ]
  },
  {
   "cell_type": "code",
   "execution_count": null,
   "metadata": {},
   "outputs": [],
   "source": [
    "\n",
    "# with open('test.txt', 'rb') as rf:\n",
    "#     with open('test_copy.txt', 'wb') as wf:\n",
    "#         for line in rf:\n",
    "#             wf.write(line)  \n",
    "\n",
    "#For images can use 'rb' and 'wb' b indicates binary"
   ]
  }
 ],
 "metadata": {
  "kernelspec": {
   "display_name": "Python 3",
   "language": "python",
   "name": "python3"
  },
  "language_info": {
   "codemirror_mode": {
    "name": "ipython",
    "version": 3
   },
   "file_extension": ".py",
   "mimetype": "text/x-python",
   "name": "python",
   "nbconvert_exporter": "python",
   "pygments_lexer": "ipython3",
   "version": "3.12.6"
  }
 },
 "nbformat": 4,
 "nbformat_minor": 2
}
