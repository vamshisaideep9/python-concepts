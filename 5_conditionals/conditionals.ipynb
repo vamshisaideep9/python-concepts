{
 "cells": [
  {
   "cell_type": "code",
   "execution_count": 1,
   "metadata": {},
   "outputs": [
    {
     "name": "stdout",
     "output_type": "stream",
     "text": [
      "Condition was True\n"
     ]
    }
   ],
   "source": [
    "if True:\n",
    "    print('Condition was True')"
   ]
  },
  {
   "cell_type": "code",
   "execution_count": 2,
   "metadata": {},
   "outputs": [],
   "source": [
    "if False:\n",
    "    print('Conditins')"
   ]
  },
  {
   "cell_type": "code",
   "execution_count": 9,
   "metadata": {},
   "outputs": [
    {
     "name": "stdout",
     "output_type": "stream",
     "text": [
      "Language is java\n"
     ]
    }
   ],
   "source": [
    "language = 'java'\n",
    "\n",
    "if language == 'python':\n",
    "    print(\"Language is python\")\n",
    "elif language == 'java':\n",
    "    print('Language is java')\n",
    "else:\n",
    "    print(\"No match\")"
   ]
  },
  {
   "cell_type": "code",
   "execution_count": 11,
   "metadata": {},
   "outputs": [
    {
     "name": "stdout",
     "output_type": "stream",
     "text": [
      "Bad cred\n"
     ]
    }
   ],
   "source": [
    "user = 'Admin'\n",
    "logged_in = False #True\n",
    "\n",
    "if user == 'Admin' and logged_in:\n",
    "    print('Admin page')\n",
    "else:\n",
    "    print('Bad cred')"
   ]
  },
  {
   "cell_type": "code",
   "execution_count": 12,
   "metadata": {},
   "outputs": [
    {
     "name": "stdout",
     "output_type": "stream",
     "text": [
      "Admin page\n"
     ]
    }
   ],
   "source": [
    "if user == 'Admin' or logged_in:\n",
    "    print('Admin page')\n",
    "else:\n",
    "    print('Bad cred')"
   ]
  },
  {
   "cell_type": "code",
   "execution_count": 13,
   "metadata": {},
   "outputs": [
    {
     "name": "stdout",
     "output_type": "stream",
     "text": [
      "please log in\n"
     ]
    }
   ],
   "source": [
    "if not logged_in:\n",
    "    print(\"please log in\")\n",
    "else:\n",
    "    print(\"Welcone\")"
   ]
  },
  {
   "cell_type": "code",
   "execution_count": 14,
   "metadata": {},
   "outputs": [
    {
     "name": "stdout",
     "output_type": "stream",
     "text": [
      "False\n"
     ]
    }
   ],
   "source": [
    "a = [1, 2, 3]\n",
    "b = [1, 2, 3]\n",
    "print(a!=b)"
   ]
  },
  {
   "cell_type": "code",
   "execution_count": 15,
   "metadata": {},
   "outputs": [
    {
     "name": "stdout",
     "output_type": "stream",
     "text": [
      "2213027284736\n",
      "2213026595008\n"
     ]
    }
   ],
   "source": [
    "print(id(a))\n",
    "print(id(b))"
   ]
  },
  {
   "cell_type": "code",
   "execution_count": 16,
   "metadata": {},
   "outputs": [
    {
     "name": "stdout",
     "output_type": "stream",
     "text": [
      "False\n"
     ]
    }
   ],
   "source": [
    "print(a is b)"
   ]
  },
  {
   "cell_type": "code",
   "execution_count": 6,
   "metadata": {},
   "outputs": [
    {
     "name": "stdout",
     "output_type": "stream",
     "text": [
      "Evaluation is True\n"
     ]
    }
   ],
   "source": [
    "condition = False#False, None, Zero or any numeric value, any empty seq, any empty mapping\n",
    "\n",
    "if condition:\n",
    "    print('Evaluation is True')\n",
    "else:\n",
    "    print('Evaluation is False')"
   ]
  }
 ],
 "metadata": {
  "kernelspec": {
   "display_name": "Python 3",
   "language": "python",
   "name": "python3"
  },
  "language_info": {
   "codemirror_mode": {
    "name": "ipython",
    "version": 3
   },
   "file_extension": ".py",
   "mimetype": "text/x-python",
   "name": "python",
   "nbconvert_exporter": "python",
   "pygments_lexer": "ipython3",
   "version": "3.12.6"
  }
 },
 "nbformat": 4,
 "nbformat_minor": 2
}
